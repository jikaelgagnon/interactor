{
 "cells": [
  {
   "cell_type": "markdown",
   "metadata": {},
   "source": [
    "# Markov Graph Generation"
   ]
  },
  {
   "cell_type": "code",
   "execution_count": 10,
   "metadata": {},
   "outputs": [],
   "source": [
    "import firebase_admin\n",
    "from firebase_admin import credentials, firestore\n",
    "from firebase_admin import db"
   ]
  },
  {
   "cell_type": "code",
   "execution_count": null,
   "metadata": {},
   "outputs": [
    {
     "name": "stdout",
     "output_type": "stream",
     "text": [
      "0fr0cgsorTchVVTWzdyd => {'documents': [{'event': 'click', 'type': 'interaction', 'content': 'Subscriptions', 'targetTag': 'YT-FORMATTED-STRING', 'clientPosition': {'y': 183, 'x': 146}, 'createdAt': '2025-03-19T21:49:38.552Z', 'targetClasses': 'title style-scope ytd-guide-entry-renderer', 'screenPosition': {'y': 304, 'x': 146}}, {'createdAt': '2025-03-19T21:49:38.558Z', 'type': 'navigate', 'destinationURL': 'https://www.youtube.com/feed/subscriptions'}, {'event': 'click', 'type': 'interaction', 'content': 'Home', 'targetTag': 'YT-FORMATTED-STRING', 'clientPosition': {'y': 98, 'x': 130}, 'createdAt': '2025-03-19T21:49:47.937Z', 'targetClasses': 'title style-scope ytd-guide-entry-renderer', 'screenPosition': {'y': 219, 'x': 130}}, {'createdAt': '2025-03-19T21:49:47.947Z', 'type': 'navigate', 'destinationURL': 'https://www.youtube.com/'}, {'event': 'click', 'type': 'interaction', 'content': 'Computer programming', 'targetTag': 'YT-FORMATTED-STRING', 'clientPosition': {'y': 74, 'x': 1228}, 'createdAt': '2025-03-19T21:49:51.853Z', 'targetClasses': 'style-scope yt-chip-cloud-chip-renderer', 'screenPosition': {'y': 195, 'x': 1228}}, {'event': 'click', 'type': 'interaction', 'content': 'Algorithms', 'targetTag': 'YT-FORMATTED-STRING', 'clientPosition': {'y': 85, 'x': 1064}, 'createdAt': '2025-03-19T21:49:55.521Z', 'targetClasses': 'style-scope yt-chip-cloud-chip-renderer', 'screenPosition': {'y': 206, 'x': 1064}}, {'event': 'click', 'type': 'interaction', 'content': '', 'targetTag': 'DIV', 'clientPosition': {'y': 25, 'x': 134}, 'createdAt': '2025-03-19T21:52:39.622Z', 'targetClasses': '', 'screenPosition': {'y': 146, 'x': 135}}, {'createdAt': '2025-03-19T21:52:45.259Z', 'type': 'navigate', 'destinationURL': 'https://www.youtube.com/watch?v=ZuKIUjw_tNU'}, {'event': 'click', 'type': 'interaction', 'content': '1.4M views 1 year ago', 'targetTag': 'DIV', 'clientPosition': {'y': 564, 'x': 422}, 'createdAt': '2025-03-19T21:52:53.653Z', 'targetClasses': 'style-scope ytd-video-meta-block', 'screenPosition': {'y': 685, 'x': 423}}, {'createdAt': '2025-03-19T21:52:53.660Z', 'type': 'navigate', 'destinationURL': 'https://www.youtube.com/watch?v=gkvyYTSKTQY'}]}\n",
      "E9XBT9aV6xEfcxPYATZg => {'documents': []}\n",
      "FLeZk9fcoaxYa9lzhFFR => {'documents': [{'event': 'click', 'type': 'interaction', 'content': 'Funkmaster Flex', 'targetTag': 'YT-FORMATTED-STRING', 'clientPosition': {'y': 77, 'x': 482}, 'createdAt': '2025-03-19T21:25:14.492Z', 'targetClasses': 'style-scope yt-chip-cloud-chip-renderer', 'screenPosition': {'y': 198, 'x': 482}}]}\n",
      "QUVzZCTuQN1SbkjREv18 => {'documents': [{'event': 'click', 'type': 'interaction', 'content': 'Podcasts', 'targetTag': 'YT-FORMATTED-STRING', 'clientPosition': {'y': 83, 'x': 266}, 'createdAt': '2025-03-20T14:43:27.048Z', 'targetClasses': 'style-scope yt-chip-cloud-chip-renderer', 'screenPosition': {'y': 204, 'x': 267}}, {'event': 'click', 'type': 'interaction', 'content': 'Mixes', 'targetTag': 'YT-FORMATTED-STRING', 'clientPosition': {'y': 82, 'x': 543}, 'createdAt': '2025-03-20T14:43:31.774Z', 'targetClasses': 'style-scope yt-chip-cloud-chip-renderer', 'screenPosition': {'y': 203, 'x': 544}}]}\n",
      "SGjAZA8FQICnZ7g33OQd => {'documents': []}\n",
      "hMk19X9A0mZT5UQT5Pti => {'documents': [{'event': 'click', 'type': 'interaction', 'content': 'Music', 'targetTag': 'DIV', 'clientPosition': {'y': 81, 'x': 133}, 'createdAt': '2025-03-20T14:42:45.816Z', 'targetClasses': 'style-scope yt-chip-cloud-chip-renderer', 'screenPosition': {'y': 202, 'x': 134}}]}\n",
      "jMasuYEskAUZDlMyIvAe => {'documents': [{'event': 'click', 'type': 'interaction', 'content': 'Gaming', 'targetTag': 'YT-FORMATTED-STRING', 'clientPosition': {'y': 87, 'x': 220}, 'createdAt': '2025-03-20T14:39:26.773Z', 'targetClasses': 'style-scope yt-chip-cloud-chip-renderer', 'screenPosition': {'y': 208, 'x': 221}}]}\n",
      "sample => {'sampleField': ''}\n"
     ]
    }
   ],
   "source": [
    "# Fetch the service account key JSON file contents\n",
    "cred = credentials.Certificate('secrets/firebase_service_credentials.json')\n",
    "# firebase_admin.initialize_app(cred)\n",
    "\n",
    "# Reference Firestore\n",
    "db = firestore.client()\n",
    "\n",
    "# Access a collection (e.g., 'userData')\n",
    "docs = db.collection('userData').stream()\n",
    "\n",
    "# Print the documents\n",
    "for doc in docs:\n",
    "    print(f'{doc.id} => {doc.to_dict()}')"
   ]
  },
  {
   "cell_type": "code",
   "execution_count": null,
   "metadata": {},
   "outputs": [],
   "source": []
  }
 ],
 "metadata": {
  "kernelspec": {
   "display_name": "markov",
   "language": "python",
   "name": "python3"
  },
  "language_info": {
   "codemirror_mode": {
    "name": "ipython",
    "version": 3
   },
   "file_extension": ".py",
   "mimetype": "text/x-python",
   "name": "python",
   "nbconvert_exporter": "python",
   "pygments_lexer": "ipython3",
   "version": "3.9.21"
  }
 },
 "nbformat": 4,
 "nbformat_minor": 2
}
